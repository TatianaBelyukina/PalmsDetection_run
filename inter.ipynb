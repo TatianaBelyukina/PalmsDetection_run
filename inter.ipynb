{
 "cells": [
  {
   "cell_type": "code",
   "execution_count": 1,
   "metadata": {},
   "outputs": [
    {
     "name": "stdout",
     "output_type": "stream",
     "text": [
      "\u001b[34m\u001b[1mdetect: \u001b[0mweights=['/Users/tetiana/Documents/python_files/yolov5/yolov5-master/runs/train/yolov5_custom/weights/last.pt'], source=/Users/tetiana/Documents/python_files/Palm-Counting-349images/test_maps_ph, data=data/coco128.yaml, imgsz=[640, 640], conf_thres=0.4, iou_thres=0.45, max_det=1000, device=, view_img=False, save_txt=True, save_csv=False, save_conf=True, save_crop=False, nosave=False, classes=None, agnostic_nms=False, augment=False, visualize=False, update=False, project=runs/detect, name=exp, exist_ok=False, line_thickness=3, hide_labels=False, hide_conf=False, half=False, dnn=False, vid_stride=1\n",
      "YOLOv5 🚀 2024-8-11 Python-3.9.19 torch-2.2.2 CPU\n",
      "\n",
      "Fusing layers... \n",
      "YOLOv5s summary: 157 layers, 7012822 parameters, 0 gradients, 15.8 GFLOPs\n",
      "image 1/4 /Users/tetiana/Documents/python_files/Palm-Counting-349images/test_maps_ph/Screenshot 2024-08-14 at 13.17.33.png: 448x640 5 palms, 106.1ms\n",
      "image 2/4 /Users/tetiana/Documents/python_files/Palm-Counting-349images/test_maps_ph/Screenshot 2024-08-14 at 13.21.19.png: 448x640 6 palms, 95.2ms\n",
      "image 3/4 /Users/tetiana/Documents/python_files/Palm-Counting-349images/test_maps_ph/Screenshot 2024-08-14 at 13.21.42.png: 448x640 20 palms, 93.7ms\n",
      "image 4/4 /Users/tetiana/Documents/python_files/Palm-Counting-349images/test_maps_ph/Screenshot 2024-08-14 at 13.22.01.png: 448x640 9 palms, 94.6ms\n",
      "Speed: 0.6ms pre-process, 97.4ms inference, 1.4ms NMS per image at shape (1, 3, 640, 640)\n",
      "Results saved to \u001b[1mruns/detect/exp\u001b[0m\n",
      "4 labels saved to runs/detect/exp/labels\n"
     ]
    }
   ],
   "source": [
    "!python detect.py --weights /Users/tetiana/Documents/python_files/yolov5/yolov5-master/runs/train/yolov5_custom/weights/last.pt --img 640 --conf 0.4 --source /Users/tetiana/Documents/python_files/Palm-Counting-349images/test_maps_ph --save-txt --save-conf\n"
   ]
  }
 ],
 "metadata": {
  "kernelspec": {
   "display_name": "python_labs",
   "language": "python",
   "name": "python3"
  },
  "language_info": {
   "codemirror_mode": {
    "name": "ipython",
    "version": 3
   },
   "file_extension": ".py",
   "mimetype": "text/x-python",
   "name": "python",
   "nbconvert_exporter": "python",
   "pygments_lexer": "ipython3",
   "version": "3.9.19"
  }
 },
 "nbformat": 4,
 "nbformat_minor": 2
}
